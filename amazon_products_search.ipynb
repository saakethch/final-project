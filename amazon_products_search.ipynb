{
  "cells": [
    {
      "cell_type": "code",
      "execution_count": 1,
      "metadata": {
        "id": "3AF0CieDWfSf"
      },
      "outputs": [],
      "source": [
        "import requests\n",
        "import json\n",
        "\n",
        "# set up the request parameters\n",
        "def find_product_by_search_keyword(search_term):\n",
        "    params = {\n",
        "      'api_key': 'ACE9F15B121149CBA47FA8E80B3C2AB8', # replace with your api key\n",
        "      'type': 'search',\n",
        "      'amazon_domain': 'amazon.com',\n",
        "      'search_term': search_term,\n",
        "      'sort_by': 'price_low_to_high'\n",
        "    }\n",
        "\n",
        "    # make the http GET request to Rainforest API\n",
        "    api_result = requests.get('https://api.rainforestapi.com/request', params)\n",
        "\n",
        "    # print the JSON response from Rainforest API\n",
        "    return json.dumps(api_result.json())"
      ]
    },
    {
      "cell_type": "code",
      "execution_count": 2,
      "metadata": {
        "id": "cFjC_BeZWLSK"
      },
      "outputs": [],
      "source": [
        "def product_links(products):\n",
        "    # result array\n",
        "    output_links = []\n",
        "\n",
        "    # loop over products \n",
        "    for product in products:\n",
        "        results = find_product_by_search_keyword(product)\n",
        "        res_json = json.loads(results)\n",
        "        expected_output = res_json[\"search_results\"][:5]\n",
        "        emp_li = []\n",
        "        for li in expected_output:\n",
        "            emp_li.append(li['link'])\n",
        "        res = {}\n",
        "        res[product] = emp_li\n",
        "        output_links.append(res)\n",
        "\n",
        "    return output_links"
      ]
    },
    {
      "cell_type": "code",
      "execution_count": 4,
      "metadata": {
        "colab": {
          "base_uri": "https://localhost:8080/"
        },
        "id": "b5VIjvytWYhC",
        "outputId": "6ce005a9-9d65-4f04-8095-710ebeda9c8a"
      },
      "outputs": [
        {
          "name": "stdout",
          "output_type": "stream",
          "text": [
            "[{'baby product': ['https://www.amazon.com/WskLinft-Newborn-Grooming-Trimmer-Products/dp/B0BK7WPSX3/ref=sr_1_1?keywords=baby+product&qid=1682530172&sr=8-1', 'https://www.amazon.com/Decorative-Anti-Collision-Children-Furniture-Products/dp/B0BRSKR8SY/ref=sr_1_2?keywords=baby+product&qid=1682530172&sr=8-2', 'https://www.amazon.com/Zanjkr-Winter-Knitted-Mittens-Products/dp/B0BN7ZW22J/ref=sr_1_3?keywords=baby+product&qid=1682530172&sr=8-3', 'https://www.amazon.com/Christmas-Nursings-Breastfeeding-Keepsake-Products/dp/B0C2Z1RCMG/ref=sr_1_4?keywords=baby+product&qid=1682530172&sr=8-4', 'https://www.amazon.com/Extender-Bathroom-Silicone-Children-Products/dp/B0C1B6NDZB/ref=sr_1_5?keywords=baby+product&qid=1682530172&sr=8-5']}, {'galaxy phone': ['https://www.amazon.com/Adapter-Charger-Converter-AirPods-Samsung/dp/B09X4HM15C/ref=sr_1_1?keywords=galaxy+phone&qid=1682530178&sr=8-1', 'https://www.amazon.com/DUzhen-Galaxy-Solid-Frosted-Accessories/dp/B08CDNXG79/ref=sr_1_2?keywords=galaxy+phone&qid=1682530178&sr=8-2', 'https://www.amazon.com/DUzhen-Frosted-Candy-Colored-Ultra-Thin-Accessories/dp/B08CDNWNT9/ref=sr_1_3?keywords=galaxy+phone&qid=1682530178&sr=8-3', 'https://www.amazon.com/X-Doria-Defense-Shield-Samsung-Galaxy/dp/B085LVY1F7/ref=sr_1_4?keywords=galaxy+phone&qid=1682530178&sr=8-4', 'https://www.amazon.com/Astronaut-Skateboard-Waterproof-Shockproof-Protective/dp/B08ZSLCVL6/ref=sr_1_5?keywords=galaxy+phone&qid=1682530178&sr=8-5']}]\n"
          ]
        }
      ],
      "source": [
        "products = ['baby product', 'galaxy phone']\n",
        "result_arr = product_links(products)\n",
        "print(result_arr)"
      ]
    },
    {
      "cell_type": "code",
      "execution_count": null,
      "metadata": {
        "id": "ReNfWw78WZVG"
      },
      "outputs": [],
      "source": []
    },
    {
      "cell_type": "code",
      "execution_count": null,
      "metadata": {
        "id": "yUUTyC40WZrA"
      },
      "outputs": [],
      "source": []
    },
    {
      "cell_type": "code",
      "execution_count": null,
      "metadata": {
        "id": "7h31_E68WaDd"
      },
      "outputs": [],
      "source": []
    }
  ],
  "metadata": {
    "colab": {
      "provenance": []
    },
    "kernelspec": {
      "display_name": "Python 3",
      "name": "python3"
    },
    "language_info": {
      "codemirror_mode": {
        "name": "ipython",
        "version": 3
      },
      "file_extension": ".py",
      "mimetype": "text/x-python",
      "name": "python",
      "nbconvert_exporter": "python",
      "pygments_lexer": "ipython3",
      "version": "3.8.0"
    }
  },
  "nbformat": 4,
  "nbformat_minor": 0
}
