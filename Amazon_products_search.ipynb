import requests
import json

# set up the request parameters
def find_product_by_search_keyword(search_term):
    params = {
      'api_key': 'ACE9F15B121149CBA47FA8E80B3C2AB8', # replace with your api key
      'type': 'search',
      'amazon_domain': 'amazon.com',
      'search_term': search_term,
      'sort_by': 'price_low_to_high'
    }

    # make the http GET request to Rainforest API
    api_result = requests.get('https://api.rainforestapi.com/request', params)

    # print the JSON response from Rainforest API
    return json.dumps(api_result.json())
    
    def product_links(products):
    # result array
    output_links = []

    # loop over products 
    for product in products:
        results = find_product_by_search_keyword(product)
        res_json = json.loads(results)
        expected_output = res_json["search_results"][:5]
        emp_li = []
        for li in expected_output:
            emp_li.append(li['link'])
        res = {}
        res[product] = emp_li
        output_links.append(res)

    return output_links
    
    products = ['cat food', 'guitar stand', 'iphone']
result_arr = product_links(products)
print(result_arr)
