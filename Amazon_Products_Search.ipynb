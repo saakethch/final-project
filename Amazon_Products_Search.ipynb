{
  "nbformat": 4,
  "nbformat_minor": 0,
  "metadata": {
    "colab": {
      "provenance": []
    },
    "kernelspec": {
      "name": "python3",
      "display_name": "Python 3"
    },
    "language_info": {
      "name": "python"
    }
  },
  "cells": [
    {
      "cell_type": "code",
      "source": [
        "import requests\n",
        "import json\n",
        "\n",
        "# set up the request parameters\n",
        "def find_product_by_search_keyword(search_term):\n",
        "    params = {\n",
        "      'api_key': 'ACE9F15B121149CBA47FA8E80B3C2AB8', # replace with your api key\n",
        "      'type': 'search',\n",
        "      'amazon_domain': 'amazon.com',\n",
        "      'search_term': search_term,\n",
        "      'sort_by': 'price_low_to_high'\n",
        "    }\n",
        "\n",
        "    # make the http GET request to Rainforest API\n",
        "    api_result = requests.get('https://api.rainforestapi.com/request', params)\n",
        "\n",
        "    # print the JSON response from Rainforest API\n",
        "    return json.dumps(api_result.json())"
      ],
      "metadata": {
        "id": "3AF0CieDWfSf"
      },
      "execution_count": 39,
      "outputs": []
    },
    {
      "cell_type": "code",
      "execution_count": 40,
      "metadata": {
        "id": "cFjC_BeZWLSK"
      },
      "outputs": [],
      "source": [
        "def product_links(products):\n",
        "    # result array\n",
        "    output_links = []\n",
        "\n",
        "    # loop over products \n",
        "    for product in products:\n",
        "        results = find_product_by_search_keyword(product)\n",
        "        res_json = json.loads(results)\n",
        "        expected_output = res_json[\"search_results\"][:5]\n",
        "        emp_li = []\n",
        "        for li in expected_output:\n",
        "            emp_li.append(li['link'])\n",
        "        res = {}\n",
        "        res[product] = emp_li\n",
        "        output_links.append(res)\n",
        "\n",
        "    return output_links"
      ]
    },
    {
      "cell_type": "code",
      "source": [
        "products = ['cat food', 'guitar stand', 'iphone']\n",
        "result_arr = product_links(products)\n",
        "print(result_arr)"
      ],
      "metadata": {
        "colab": {
          "base_uri": "https://localhost:8080/"
        },
        "id": "b5VIjvytWYhC",
        "outputId": "6ce005a9-9d65-4f04-8095-710ebeda9c8a"
      },
      "execution_count": 42,
      "outputs": [
        {
          "output_type": "stream",
          "name": "stdout",
          "text": [
            "[{'cat food': ['https://www.amazon.com/Fancy-Feast-Food-Flaked-Tuna/dp/B000RYDKI8/ref=sr_1_1?keywords=cat+food&qid=1682476676&sr=8-1', 'https://www.amazon.com/WholeHearted-Digestion-Salmon-Recipe-Adult/dp/B0BW4RP289/ref=sr_1_2?keywords=cat+food&qid=1682476676&sr=8-2', 'https://www.amazon.com/WholeHearted-Digestion-Chicken-Recipe-Adult/dp/B0BW4RWRN8/ref=sr_1_3?keywords=cat+food&qid=1682476676&sr=8-3', 'https://www.amazon.com/Food-Pate-Liver-Chicken-5-5-oz/dp/B002YLFON6/ref=sr_1_4?keywords=cat+food&qid=1682476676&sr=8-4', 'https://www.amazon.com/hionre-Universal-Silicone-Fresh-Keeping-Isolation/dp/B09NNT36VH/ref=sr_1_5?keywords=cat+food&qid=1682476676&sr=8-5']}, {'guitar stand': ['https://www.amazon.com/Display-Acoustic-Ukulele-Mandolin-Hangers/dp/B075VL7MPY/ref=sr_1_1?keywords=guitar+stand&qid=1682476694&sr=8-1', 'https://www.amazon.com/Guitar-Stand-Universal-Colour-Folding/dp/B0BJRQN52F/ref=sr_1_2?keywords=guitar+stand&qid=1682476694&sr=8-2', 'https://www.amazon.com/Guitars-Holder-Metal-Guitar-Mount/dp/B09Q5LZCC3/ref=sr_1_3?keywords=guitar+stand&qid=1682476694&sr=8-3', 'https://www.amazon.com/heaven2017-Guitar-Stand-Ukelele-Violin/dp/B07L11G542/ref=sr_1_4?keywords=guitar+stand&qid=1682476694&sr=8-4', 'https://www.amazon.com/heaven2017-Guitar-Banjo-Hanger-Holder/dp/B07KZN99N2/ref=sr_1_5?keywords=guitar+stand&qid=1682476694&sr=8-5']}, {'iphone': ['https://www.amazon.com/Apple-iPhone-5C-Sprint-Green/dp/B00F3IIVV4/ref=sr_1_1?keywords=iphone&qid=1682476701&sr=8-1', 'https://www.amazon.com/Adapter-Charger-Converter-AirPods-Samsung/dp/B09X4HM15C/ref=sr_1_2?keywords=iphone&qid=1682476701&sr=8-2', 'https://www.amazon.com/Holder-Wallet-Pocket-Android-Smartphones/dp/B07VBBFCFL/ref=sr_1_3?keywords=iphone&qid=1682476701&sr=8-3', 'https://www.amazon.com/Magnetic-Anti-Yellowing-Long-Lasting-Eyes-catching-Wireless/dp/B09XLP1TCV/ref=sr_1_4?keywords=iphone&qid=1682476701&sr=8-4', 'https://www.amazon.com/Telephone-Radiation-Reduction-Receivers-Smartphone/dp/B0B9KRV3P5/ref=sr_1_5?keywords=iphone&qid=1682476701&sr=8-5']}]\n"
          ]
        }
      ]
    },
    {
      "cell_type": "code",
      "source": [],
      "metadata": {
        "id": "ReNfWw78WZVG"
      },
      "execution_count": null,
      "outputs": []
    },
    {
      "cell_type": "code",
      "source": [],
      "metadata": {
        "id": "yUUTyC40WZrA"
      },
      "execution_count": null,
      "outputs": []
    },
    {
      "cell_type": "code",
      "source": [],
      "metadata": {
        "id": "7h31_E68WaDd"
      },
      "execution_count": null,
      "outputs": []
    }
  ]
}